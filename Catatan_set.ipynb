{
 "cells": [
  {
   "cell_type": "markdown",
   "metadata": {},
   "source": [
    "Set adalah sebuah tipe data pada python yang dapat menyimpan sekumpulan data yang bersifat unik/ tidak tercetak berulang - ulang."
   ]
  },
  {
   "cell_type": "code",
   "execution_count": 148,
   "metadata": {},
   "outputs": [
    {
     "name": "stdout",
     "output_type": "stream",
     "text": [
      "{2, 4, 6, 8, 10, 12}\n",
      "<class 'set'>\n"
     ]
    }
   ],
   "source": [
    "Genap = {2,4,6,2,8,6,8,10,12} #Anggota Set disebut sebagai member\n",
    "Genap.update({2,2,2})\n",
    "print(Genap)\n",
    "print(type(Genap))"
   ]
  },
  {
   "cell_type": "code",
   "execution_count": 150,
   "metadata": {},
   "outputs": [
    {
     "name": "stdout",
     "output_type": "stream",
     "text": [
      "<class 'set'>\n",
      "Ngerti ga?\n"
     ]
    }
   ],
   "source": [
    "ngerti_ga = set()\n",
    "print(type(ngerti_ga))\n",
    "print(\"Ngerti ga?\")"
   ]
  },
  {
   "cell_type": "markdown",
   "metadata": {},
   "source": [
    "Set tidak bisa diakses menggunakan indeks sehingga harus diakses manual"
   ]
  },
  {
   "cell_type": "code",
   "execution_count": 153,
   "metadata": {},
   "outputs": [
    {
     "name": "stdout",
     "output_type": "stream",
     "text": [
      "71231018 adalah mahasiswa informatika\n",
      "bukan mahasiswa informatika\n",
      "71231020 adalah mahasiswa informatika\n",
      "71231017 adalah mahasiswa informatika\n",
      "71231019 adalah mahasiswa informatika\n",
      "bukan mahasiswa informatika\n"
     ]
    }
   ],
   "source": [
    "# Program untuk mengecek nim siswa adalah informatika atau bukan\n",
    "set_nim = {\"71231017\", \"71231018\", \"71231019\", \"71231020\",\"61231011\", \"52831729\"}\n",
    "for i in set_nim:\n",
    "    if i.startswith(\"71\"):\n",
    "        print(f\"{i} adalah mahasiswa informatika\")\n",
    "    else:\n",
    "        print(\"bukan mahasiswa informatika\")"
   ]
  },
  {
   "cell_type": "code",
   "execution_count": 141,
   "metadata": {},
   "outputs": [
    {
     "name": "stdout",
     "output_type": "stream",
     "text": [
      "['aku', 'belum', 'mandi', 'tak', 'dung', 'duang', 'taktak', 'duangduang']\n"
     ]
    }
   ],
   "source": [
    "siap = \"aku belum mandi tak dung duang tak dung duang\"\n",
    "siap = siap.split()\n",
    "hasil = []\n",
    "for i in range(len(siap)-1):\n",
    "    if siap[i] not in hasil:\n",
    "        hasil.append(siap[i])\n",
    "    else:\n",
    "        hasil.append(siap[i]+siap[i])\n",
    "        siap.remove(siap[i])\n",
    "print(hasil)"
   ]
  },
  {
   "cell_type": "markdown",
   "metadata": {},
   "source": [
    "Set tidak dapat diakses menggunakan indeks (akan menampilkan data secara acak) karena set tidak berurutan sehingga hanya bisa diakses menggunakan perulangan for atau while"
   ]
  },
  {
   "cell_type": "code",
   "execution_count": 4,
   "metadata": {},
   "outputs": [
    {
     "name": "stdout",
     "output_type": "stream",
     "text": [
      "{1, 2, 3, 4, 5, 6, 7, 8, 9, 10, 11, 12, 14}\n",
      "{1, 2, 3, 4, 5, 6, 7, 8, 9, 10, 11, 12, 14}\n",
      "{1, 2, 3, 4, 5, 6, 7, 8, 9, 10, 11, 12, 14}\n",
      "8\n",
      "{1, 2, 3, 4, 5, 6, 7, 8, 9, 10, 11, 12, 14}\n",
      "{1, 2, 3, 4, 5, 6, 7, 8, 9, 10, 11, 12, 14}\n",
      "{1, 2, 3, 4, 5, 6, 7, 8, 9, 10, 11, 12, 14}\n"
     ]
    }
   ],
   "source": [
    "ganjil = {1,3,5,7,9,11}\n",
    "genap = {2,4,6,8,10,12,14}\n",
    "for i in genap:\n",
    "    if i == 8:\n",
    "        print(i)\n",
    "    else:\n",
    "        print(ganjil|genap)"
   ]
  },
  {
   "cell_type": "markdown",
   "metadata": {},
   "source": [
    "Set itu mutable yaitu bisa ditambah (menggunakan fungsi .add()) dan anggotanya bisa dihapus (menggunakan fungsi remove() dan lain lain) tetapi tidak bisa diubah secara langsung.\n",
    "Sifat set juga unik yaitu akan menghilangkan segala nilai atau value yang sama sehingga:"
   ]
  },
  {
   "cell_type": "code",
   "execution_count": 157,
   "metadata": {},
   "outputs": [
    {
     "name": "stdout",
     "output_type": "stream",
     "text": [
      "{67, 15}\n",
      "{67}\n",
      "{67, 15}\n"
     ]
    }
   ],
   "source": [
    "variabel = set()\n",
    "variabel.add(15)\n",
    "variabel.add(15)\n",
    "variabel.add(67)\n",
    "print(variabel)\n",
    "variabel.remove(15)\n",
    "print(variabel)\n",
    "variabel.update([15])\n",
    "print(variabel)"
   ]
  },
  {
   "cell_type": "markdown",
   "metadata": {},
   "source": [
    "Set dapat dihapus dan ditambahkan"
   ]
  },
  {
   "cell_type": "code",
   "execution_count": 19,
   "metadata": {},
   "outputs": [
    {
     "name": "stdout",
     "output_type": "stream",
     "text": [
      "{50, 20, 40, 30}\n",
      "{50, 20, 40}\n",
      "{20, 40}\n",
      "set()\n"
     ]
    }
   ],
   "source": [
    "intro = {10,20,30,40,50}\n",
    "intro.remove(10) #Menghapus sesuai yang ditunjuk dan akan error jika yang ingin diremove ga ada\n",
    "print(intro)\n",
    "intro.discard(30) #Menghapus seperti remove tetapi tidak error\n",
    "print(intro)\n",
    "intro.pop() #Menghapus anggota tetapi diambil secara acak dan error jika set kosong\n",
    "print(intro)\n",
    "intro.clear() #Menghapus semua anggota sets\n",
    "print(intro)"
   ]
  },
  {
   "cell_type": "markdown",
   "metadata": {},
   "source": [
    "Jika ingin mengubah anggota set, harus menghapus anggota yang ingin diganti terlebih dahulu lalu menambahkan dengan penggantinya"
   ]
  },
  {
   "cell_type": "code",
   "execution_count": 20,
   "metadata": {},
   "outputs": [
    {
     "name": "stdout",
     "output_type": "stream",
     "text": [
      "{'strawberry', 'roti', 'anggur', 'kacang'}\n"
     ]
    }
   ],
   "source": [
    "esbuah = {\"apel\", \"anggur\", \"kacang\", \"strawberry\"}\n",
    "esbuah.discard(\"apel\")\n",
    "esbuah.add(\"roti\")\n",
    "print(esbuah)"
   ]
  },
  {
   "cell_type": "markdown",
   "metadata": {},
   "source": [
    "Operasi - operasi pada set\n",
    "\n",
    "(seperti matdis/logmat tentang himpunan: \n",
    "\n",
    "\n",
    "(\"&\"(dan/.intersection())\n",
    "\n",
    "\"|\"(atau/.union())\n",
    "\n",
    "\"-\"(.difference()/yang bukan)\n",
    "\n",
    "\"^\"(.symetric_difference()/not(a and b))\n",
    "\n",
    "))"
   ]
  },
  {
   "cell_type": "code",
   "execution_count": 23,
   "metadata": {},
   "outputs": [
    {
     "name": "stdout",
     "output_type": "stream",
     "text": [
      "{1, 2, 3, 4, 5, 6, 7, 8, 9, 10, 11, 13}\n",
      "{1, 3, 5, 7, 9, 11, 13}\n"
     ]
    }
   ],
   "source": [
    "ganjil = {1,3,5,7,9,11,13}\n",
    "genap = {2,4,6,8,10}\n",
    "prima = {2,3,5,7,11}\n",
    "\n",
    "hasil = genap|ganjil\n",
    "print(hasil)\n",
    "hasil = ganjil & ganjil\n",
    "print(hasil)"
   ]
  },
  {
   "cell_type": "markdown",
   "metadata": {},
   "source": [
    "kegiatan pragktikum"
   ]
  },
  {
   "cell_type": "code",
   "execution_count": 26,
   "metadata": {},
   "outputs": [
    {
     "name": "stdout",
     "output_type": "stream",
     "text": [
      "({1, 2, 3, 4, 5, 6, 7, 8}, 36)\n"
     ]
    }
   ],
   "source": [
    "def unique_sum(list):\n",
    "    data_set = set(list)\n",
    "    total = 0\n",
    "    for data in data_set:\n",
    "        total += data\n",
    "    return data_set,total\n",
    "\n",
    "var = [1,2,3,4,5,4,7,5,4,8,5,6,7,2,4,5,7,3,4,7,4,5,6,8,5,6,4,7,6,3,2,4,4,6]\n",
    "hasil = unique_sum(var)\n",
    "print(hasil)\n"
   ]
  },
  {
   "cell_type": "markdown",
   "metadata": {},
   "source": [
    "Mengecek duplikat dalam string (keg praktikum)"
   ]
  },
  {
   "cell_type": "code",
   "execution_count": 29,
   "metadata": {},
   "outputs": [
    {
     "name": "stdout",
     "output_type": "stream",
     "text": [
      "True\n"
     ]
    }
   ],
   "source": [
    "def cek_duplikat(string):\n",
    "    karakter_set = set(\"i\")\n",
    "    for karakter in string:\n",
    "        if karakter in karakter_set:\n",
    "            return True\n",
    "        else:\n",
    "            karakter_set.add(karakter)\n",
    "    return False\n",
    "print(cek_duplikat(\"Susi\"))"
   ]
  },
  {
   "cell_type": "markdown",
   "metadata": {},
   "source": [
    "• List menjadi Set\n",
    "• Set menjadi List\n",
    "• Tuple menjadi Set\n",
    "• Set menjadi Tuple"
   ]
  },
  {
   "cell_type": "code",
   "execution_count": 13,
   "metadata": {},
   "outputs": [
    {
     "name": "stdout",
     "output_type": "stream",
     "text": [
      "sebelum [1, 4, 7, 9, 3, 3, 4, 7, 1]\ttipenya : <class 'list'>\n",
      "setelah1 {1, 3, 4, 7, 9}\ttipenya : <class 'set'>\n",
      "setelah2 [1, 3, 4, 7, 9]\ttipenya : <class 'list'>\n"
     ]
    }
   ],
   "source": [
    "coba = [1,4,7,9,3,3,4,7,1]\n",
    "print(f\"sebelum {coba}\\ttipenya : {type(coba)}\")\n",
    "coba = set(coba)\n",
    "print(f\"setelah1 {coba}\\ttipenya : {type(coba)}\")\n",
    "coba = list(coba)\n",
    "print(f\"setelah2 {coba}\\ttipenya : {type(coba)}\")"
   ]
  },
  {
   "cell_type": "code",
   "execution_count": 21,
   "metadata": {},
   "outputs": [
    {
     "name": "stdout",
     "output_type": "stream",
     "text": [
      "{0, 1, 2, 3, 4, 5, 6, 7, 8, 9}\n"
     ]
    }
   ],
   "source": [
    "list1 = [1,2,3,4,5,6]\n",
    "list2 = [6,7,8,9,0]\n",
    "hasil = set(list1) | set(list2)\n",
    "print(hasil)"
   ]
  },
  {
   "cell_type": "code",
   "execution_count": 23,
   "metadata": {},
   "outputs": [
    {
     "data": {
      "text/plain": [
       "7"
      ]
     },
     "execution_count": 23,
     "metadata": {},
     "output_type": "execute_result"
    }
   ],
   "source": [
    "def cek_kekurangan(krs1, krs2):\n",
    "    hasil = []\n",
    "    for i in krs1:\n",
    "        if i not in krs2:\n",
    "            hasil.append(i)\n",
    "    return len(hasil)\n",
    "\n",
    "krs1 = ['alpro', 'strukdat', 'pbo', 'ppkn', 'toefl', 'prakalpro', 'skripsi', 'kkn', 'statistik', 'ai', 'jarkom', 'tekwan']\n",
    "krs2 = ['alpro', 'jarkom', 'pbo', 'strukdat', 'statistik', 'hamdem', 'kcp']\n",
    "cek_kekurangan(krs1, krs2)"
   ]
  },
  {
   "cell_type": "code",
   "execution_count": 24,
   "metadata": {},
   "outputs": [
    {
     "name": "stdout",
     "output_type": "stream",
     "text": [
      "7\n"
     ]
    }
   ],
   "source": [
    "def cek_kekurangan(krs1, krs2):\n",
    "    hasil = []\n",
    "    for i in krs1:\n",
    "        i.lower()\n",
    "        if i not in krs2:\n",
    "            hasil.append(i)\n",
    "    print(len(hasil))\n",
    "\n",
    "krs1 = ['alpro', 'strukdat', 'pbo', 'ppkn', 'toefl', 'prakalpro', 'skripsi', 'kkn', 'statistik', 'ai', 'jarkom', 'tekwan']\n",
    "krs2 = ['alpro', 'jarkom', 'pbo', 'strukdat', 'statistik', 'hamdem', 'kcp']\n",
    "cek_kekurangan(krs1, krs2)"
   ]
  },
  {
   "cell_type": "code",
   "execution_count": 28,
   "metadata": {},
   "outputs": [
    {
     "name": "stdout",
     "output_type": "stream",
     "text": [
      "10\n"
     ]
    }
   ],
   "source": [
    "list1 = {1:\"satu\",2:\"dua\",3:\"iga\",4:\"papat\",5:\"ma\",6:\"nam\"}\n",
    "list2 = {6:\"nam\",7:\"ju\",8:\"pan\",9:\"lan\",0:\"luh\"}\n",
    "print(len(set(list1)|set(list2)))"
   ]
  },
  {
   "cell_type": "code",
   "execution_count": 29,
   "metadata": {},
   "outputs": [
    {
     "name": "stdout",
     "output_type": "stream",
     "text": [
      "a\n",
      "b\n",
      "c\n"
     ]
    }
   ],
   "source": [
    "X = {'a':0.5, 'b':0.3, 'c':0.1}\n",
    "\n",
    "for i in X:\n",
    "    print(i)"
   ]
  },
  {
   "cell_type": "code",
   "execution_count": 31,
   "metadata": {},
   "outputs": [
    {
     "name": "stdout",
     "output_type": "stream",
     "text": [
      "0\n",
      "1\n",
      "2\n",
      "3\n",
      "4\n",
      "5\n"
     ]
    }
   ],
   "source": [
    "satu = (1,2,3,4,5,5)\n",
    "n = len(satu)\n",
    "for i in range(n):\n",
    "    print(i)"
   ]
  },
  {
   "cell_type": "code",
   "execution_count": 66,
   "metadata": {},
   "outputs": [
    {
     "name": "stdout",
     "output_type": "stream",
     "text": [
      "EucRel: 0.18086528\n"
     ]
    }
   ],
   "source": [
    "from math import sqrt\n",
    "\n",
    "def euclidienCalculation(dict1, dict2):\n",
    "     m = len(set(dict1)|set(dict2))\n",
    "     n = len(set(dict1)&set(dict2))\n",
    "     hasil = 0\n",
    "     for i in range(n):\n",
    "        for j in dict1:\n",
    "            if j in dict2:\n",
    "                angka = ((dict1[j] - dict2[j])**2)/m\n",
    "                hasil += angka\n",
    "     return(float(hasil))\n",
    "\n",
    "o1 = {'a':0.1724,'b':0.648,'c':0.021}\n",
    "o2 = {'a':0.214,'b':0.048,'d':0.121}\n",
    "print(f'EucRel: {euclidienCalculation(o1,o2)}')"
   ]
  },
  {
   "cell_type": "code",
   "execution_count": 65,
   "metadata": {},
   "outputs": [
    {
     "ename": "TypeError",
     "evalue": "must be real number, not NoneType",
     "output_type": "error",
     "traceback": [
      "\u001b[1;31m---------------------------------------------------------------------------\u001b[0m",
      "\u001b[1;31mTypeError\u001b[0m                                 Traceback (most recent call last)",
      "Cell \u001b[1;32mIn[65], line 15\u001b[0m\n\u001b[0;32m     13\u001b[0m o1 \u001b[38;5;241m=\u001b[39m {\u001b[38;5;124m'\u001b[39m\u001b[38;5;124ma\u001b[39m\u001b[38;5;124m'\u001b[39m:\u001b[38;5;241m0.1724\u001b[39m,\u001b[38;5;124m'\u001b[39m\u001b[38;5;124mb\u001b[39m\u001b[38;5;124m'\u001b[39m:\u001b[38;5;241m0.648\u001b[39m,\u001b[38;5;124m'\u001b[39m\u001b[38;5;124mc\u001b[39m\u001b[38;5;124m'\u001b[39m:\u001b[38;5;241m0.021\u001b[39m}\n\u001b[0;32m     14\u001b[0m o2 \u001b[38;5;241m=\u001b[39m {\u001b[38;5;124m'\u001b[39m\u001b[38;5;124ma\u001b[39m\u001b[38;5;124m'\u001b[39m:\u001b[38;5;241m0.214\u001b[39m,\u001b[38;5;124m'\u001b[39m\u001b[38;5;124mb\u001b[39m\u001b[38;5;124m'\u001b[39m:\u001b[38;5;241m0.048\u001b[39m,\u001b[38;5;124m'\u001b[39m\u001b[38;5;124md\u001b[39m\u001b[38;5;124m'\u001b[39m:\u001b[38;5;241m0.121\u001b[39m}\n\u001b[1;32m---> 15\u001b[0m \u001b[38;5;28mprint\u001b[39m(\u001b[38;5;124;43m'\u001b[39;49m\u001b[38;5;124;43mEucRel: \u001b[39;49m\u001b[38;5;132;43;01m%0.3f\u001b[39;49;00m\u001b[38;5;124;43m'\u001b[39;49m\u001b[38;5;241;43m%\u001b[39;49m\u001b[43meuclidienCalculation\u001b[49m\u001b[43m(\u001b[49m\u001b[43mo1\u001b[49m\u001b[43m,\u001b[49m\u001b[43mo2\u001b[49m\u001b[43m)\u001b[49m)\n",
      "\u001b[1;31mTypeError\u001b[0m: must be real number, not NoneType"
     ]
    }
   ],
   "source": [
    "from math import sqrt\n",
    "\n",
    "def euclidienCalculation(dict1, dict2):\n",
    "     m = len(set(dict1)|set(dict2))\n",
    "     n = len(set(dict1)&set(dict2))\n",
    "     hasil = 0\n",
    "     for i in range(n):\n",
    "         for j in dict1:\n",
    "            if j in dict2:\n",
    "                angka = ((dict1[j] - dict2[j])**2)/m\n",
    "                hasil += angka\n",
    "\n",
    "o1 = {'a':0.1724,'b':0.648,'c':0.021}\n",
    "o2 = {'a':0.214,'b':0.048,'d':0.121}\n",
    "print('EucRel: %0.3f'%euclidienCalculation(o1,o2))"
   ]
  },
  {
   "cell_type": "code",
   "execution_count": 44,
   "metadata": {},
   "outputs": [
    {
     "name": "stdout",
     "output_type": "stream",
     "text": [
      "0.6\n"
     ]
    }
   ],
   "source": [
    "o1 = {'a':0.1724,'b':0.648,'c':0.021}\n",
    "o2 = {'a':0.214,'b':0.048,'d':0.121}\n",
    "print(o1[\"b\"] - o2[\"b\"])"
   ]
  },
  {
   "cell_type": "code",
   "execution_count": null,
   "metadata": {},
   "outputs": [],
   "source": [
    "from math import sqrt\n",
    "\n",
    "def euclidienCalculation(dict1, dict2):\n",
    "     m = len(set(dict1)|set(dict2))\n",
    "     n = len(set(dict1)&set(dict2))\n",
    "     hasil = 0\n",
    "     for i in dict1:\n",
    "         if i in dict2:\n",
    "            angka = ((dict1[i] - dict2[i])**2)/m\n",
    "            hasil += angka\n",
    "     return float(hasil)"
   ]
  },
  {
   "cell_type": "code",
   "execution_count": 68,
   "metadata": {},
   "outputs": [
    {
     "name": "stdout",
     "output_type": "stream",
     "text": [
      "0\n",
      "1\n"
     ]
    }
   ],
   "source": [
    "a = (1,2)\n",
    "for i in range(len(a)):\n",
    "    print(i)"
   ]
  },
  {
   "cell_type": "code",
   "execution_count": 73,
   "metadata": {},
   "outputs": [
    {
     "name": "stdout",
     "output_type": "stream",
     "text": [
      "['saya', 'mau', 'makan']\n"
     ]
    }
   ],
   "source": [
    "a = \"saya mau makan\"\n",
    "print(a.split())"
   ]
  }
 ],
 "metadata": {
  "kernelspec": {
   "display_name": "Python 3",
   "language": "python",
   "name": "python3"
  },
  "language_info": {
   "codemirror_mode": {
    "name": "ipython",
    "version": 3
   },
   "file_extension": ".py",
   "mimetype": "text/x-python",
   "name": "python",
   "nbconvert_exporter": "python",
   "pygments_lexer": "ipython3",
   "version": "3.11.5"
  }
 },
 "nbformat": 4,
 "nbformat_minor": 2
}
