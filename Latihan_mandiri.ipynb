{
 "cells": [
  {
   "cell_type": "markdown",
   "metadata": {},
   "source": [
    "Latihan 12.1"
   ]
  },
  {
   "cell_type": "code",
   "execution_count": null,
   "metadata": {},
   "outputs": [],
   "source": [
    "# Dari contoh kasus kategori kasus di Play Store, tambahkan kemampuan-kemampuan\n",
    "# berikut ini:\n",
    "# • Tampilkan nama-nama aplikasi yang hanya muncul di satu kategori saja.\n",
    "# • Untuk input n>2, tampilkan nama-nama aplikasi yang muncul tepat di dua kategori\n",
    "# sekaligus\n",
    "\n",
    "\n",
    "n = int(input('Masukkan jumlah kategori: '))\n",
    "data_aplikasi = {}\n",
    "for i in range(n):\n",
    "    nama_kategori = input('Masukkan nama kategori:')\n",
    "    print('Masukkan 5 nama aplikasi di kategori', nama_kategori)\n",
    "    aplikasi = []\n",
    "    for j in range(5):\n",
    "        nama_aplikasi = input('Nama aplikasi: ')\n",
    "        aplikasi.append(nama_aplikasi)\n",
    "    data_aplikasi[nama_kategori] = aplikasi\n",
    "\n",
    "print(data_aplikasi)\n",
    "daftar_aplikasi_list = []   \n",
    "for aplikasi in data_aplikasi.values():\n",
    "    daftar_aplikasi_list.append(set(aplikasi))\n",
    "print(daftar_aplikasi_list)\n",
    "hasil = daftar_aplikasi_list[0]\n",
    "for i in range(1, len(daftar_aplikasi_list)):\n",
    "    hasil = hasil.intersection(daftar_aplikasi_list[i])\n",
    "print(f\"{hasil}\\n\\n\")\n",
    "\n",
    "\n",
    "\n",
    "Hasil_aplikasi = set()\n",
    "for anggota in daftar_aplikasi_list:\n",
    "    Hasil_aplikasi = Hasil_aplikasi.union(anggota)\n",
    "unique_apps = set()\n",
    "for i, anggota in enumerate(daftar_aplikasi_list):\n",
    "    other_sets_union = set().union(*[anggota2 for j, anggota2 in enumerate(daftar_aplikasi_list) if i != j])\n",
    "    unique_apps.update(anggota.symmetric_difference(other_sets_union))\n",
    "app_count = {}\n",
    "for anggota in daftar_aplikasi_list:\n",
    "    for app in anggota:\n",
    "        if app in app_count:\n",
    "            app_count[app] += 1\n",
    "        else:\n",
    "            app_count[app] = 1\n",
    "single_category_apps = [app for app, count in app_count.items() if count == 1]\n",
    "print(\"Aplikasi yang hanya muncul di satu kategori:\", single_category_apps)\n",
    "if n > 2:\n",
    "    double_category_apps = [app for app, count in app_count.items() if count == 2]\n",
    "    print(\"Aplikasi yang muncul di tepat dua kategori:\", double_category_apps)"
   ]
  },
  {
   "cell_type": "markdown",
   "metadata": {},
   "source": [
    "Latihan 12.2"
   ]
  },
  {
   "cell_type": "code",
   "execution_count": 14,
   "metadata": {},
   "outputs": [
    {
     "name": "stdout",
     "output_type": "stream",
     "text": [
      "['Saya', 'mau', 'mandi']\n",
      "<class 'list'>\n",
      "{'mau', 'Saya', 'mandi'}\n",
      "<class 'set'>\n",
      "['mau', 'Saya', 'mandi']\n",
      "<class 'list'>\n",
      "('mau', 'Saya', 'mandi')\n",
      "<class 'tuple'>\n",
      "{'mau', 'Saya', 'mandi'}\n",
      "<class 'set'>\n",
      "('mau', 'Saya', 'mandi')\n",
      "<class 'tuple'>\n"
     ]
    }
   ],
   "source": [
    "# Buatlah sebuah program yang mendemonstrasikan konversi dari:\n",
    "# • List menjadi Set\n",
    "# • Set menjadi List\n",
    "# • Tuple menjadi Set\n",
    "# • Set menjadi Tuple\n",
    "# Tampilkan isi data sebelum dan sesudah konversi.\n",
    "\n",
    "Var = \"Saya mau mandi\"\n",
    "Var = Var.split()\n",
    "print(Var)\n",
    "print(type(Var))\n",
    "Var = set(Var)\n",
    "print(Var)\n",
    "print(type(Var))\n",
    "Var = list(Var)\n",
    "print(Var)\n",
    "print(type(Var))\n",
    "Var = tuple(Var)\n",
    "print(Var)\n",
    "print(type(Var))\n",
    "Var = set(Var)\n",
    "print(Var)\n",
    "print(type(Var))\n",
    "Var = tuple(Var)\n",
    "print(Var)\n",
    "print(type(Var))"
   ]
  },
  {
   "cell_type": "code",
   "execution_count": 28,
   "metadata": {},
   "outputs": [
    {
     "name": "stdout",
     "output_type": "stream",
     "text": [
      "Ini adalah inputan anda (kondisi awal) : \n",
      "saya mau makan\t\t>>>\t\ttipe : <class 'str'>\n",
      "\n",
      "List : \n",
      " ['saya', 'mau', 'makan']\t\t>>>\t\ttipe : <class 'list'>\n",
      "\n",
      "List ke Set: \n",
      " {'mau', 'saya', 'makan'}\t\t>>>\t\ttipe : <class 'set'>\n",
      "\n",
      "Set ke List : \n",
      " ['mau', 'saya', 'makan']\t\t>>>\t\ttipe : <class 'list'>\n",
      "\n",
      "List ke Tuple : \n",
      " ('mau', 'saya', 'makan')\t\t>>>\t\ttipe : <class 'tuple'>\n",
      "\n",
      "Tuple ke Set : \n",
      " {'mau', 'saya', 'makan'}\t\t>>>\t\ttipe : <class 'set'>\n",
      "\n",
      "Set ke Tuple : \n",
      " ('mau', 'saya', 'makan')\t\t>>>\t\ttipe : <class 'tuple'>\n",
      "\n"
     ]
    }
   ],
   "source": [
    "Inputan = input(\"Masukkan string yang ingin dikonfersi menjadi list, tuple, dan set\")\n",
    "print(f\"Ini adalah inputan anda (kondisi awal) : \\n{Inputan}\\t\\t>>>\\t\\ttipe : {type(Inputan)}\\n\")\n",
    "Inputan = Inputan.split()\n",
    "print(f\"List : \\n {Inputan}\\t\\t>>>\\t\\ttipe : {type(Inputan)}\\n\")\n",
    "Inputan = set(Inputan)\n",
    "print(f\"List ke Set: \\n {Inputan}\\t\\t>>>\\t\\ttipe : {type(Inputan)}\\n\")\n",
    "Inputan = list(Inputan)\n",
    "print(f\"Set ke List : \\n {Inputan}\\t\\t>>>\\t\\ttipe : {type(Inputan)}\\n\")\n",
    "Inputan = tuple(Inputan)\n",
    "print(f\"List ke Tuple : \\n {Inputan}\\t\\t>>>\\t\\ttipe : {type(Inputan)}\\n\")\n",
    "Inputan = set(Inputan)\n",
    "print(f\"Tuple ke Set : \\n {Inputan}\\t\\t>>>\\t\\ttipe : {type(Inputan)}\\n\")\n",
    "Inputan = tuple(Inputan)\n",
    "print(f\"Set ke Tuple : \\n {Inputan}\\t\\t>>>\\t\\ttipe : {type(Inputan)}\\n\")"
   ]
  },
  {
   "cell_type": "markdown",
   "metadata": {},
   "source": [
    "Latihan 12.3"
   ]
  },
  {
   "cell_type": "code",
   "execution_count": null,
   "metadata": {},
   "outputs": [],
   "source": [
    "import os\n",
    "\n",
    "inputan_pertama=input(\"Masukan file 1 : \")\n",
    "inputan_kedua=input(\"Masukan file 2 : \")\n",
    "\n",
    "if not os.path.exists(inputan_pertama):\n",
    "    print(f\"File pertama anda {inputan_pertama} tidak ditemukan!\")\n",
    "    exit()\n",
    "\n",
    "if not os.path.exists(inputan_kedua):\n",
    "    print(f\"File kedua anda {inputan_kedua} tidak ditemukan!\")\n",
    "    exit()\n",
    "\n",
    "buka_inputan_pertama=open(inputan_pertama, \"r\")\n",
    "buka_inputan_kedua=open(inputan_kedua, \"r\")\n",
    "\n",
    "\n",
    "\n",
    "buka_inputan_pertama=set(buka_inputan_pertama.read().split())\n",
    "buka_inputan_kedua=set(buka_inputan_kedua.read().split())\n",
    "\n",
    "set_inputan_pertama=set()\n",
    "set_inputan_kedua=set()\n",
    "\n",
    "for a in buka_inputan_pertama:\n",
    "    set_inputan_pertama.add(a.lower())\n",
    "for b in buka_inputan_kedua:\n",
    "    set_inputan_kedua.add(b.lower())\n",
    "\n",
    "gabungan_kata=set_inputan_pertama.union(set_inputan_kedua)\n",
    "\n",
    "kata_muncul=set_inputan_pertama.intersection(set_inputan_kedua)\n",
    "\n",
    "print(\"Kata-kata yang muncul pada kedua file : \")\n",
    "print(kata_muncul)"
   ]
  }
 ],
 "metadata": {
  "kernelspec": {
   "display_name": "Python 3",
   "language": "python",
   "name": "python3"
  },
  "language_info": {
   "codemirror_mode": {
    "name": "ipython",
    "version": 3
   },
   "file_extension": ".py",
   "mimetype": "text/x-python",
   "name": "python",
   "nbconvert_exporter": "python",
   "pygments_lexer": "ipython3",
   "version": "3.11.5"
  }
 },
 "nbformat": 4,
 "nbformat_minor": 2
}
